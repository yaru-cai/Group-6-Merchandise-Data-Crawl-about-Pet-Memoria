{
 "cells": [
  {
   "cell_type": "code",
   "execution_count": null,
   "metadata": {},
   "outputs": [],
   "source": [
    "import wordcloud\n",
    "from PIL import Image\n",
    "import imageio\n",
    "\n",
    "mk=imageio.imread('cat.png')\n",
    "\n",
    "# Set parameters of wordcloud\n",
    "w = wordcloud.WordCloud(width=2000,\n",
    "                        height=2000,\n",
    "                        min_word_length=2,\n",
    "                        mask=mk,\n",
    "                        background_color='white',\n",
    "                        font_path='msyh.ttc')\n",
    "\n",
    "# Import the text\n",
    "f = open('comment.txt',encoding='utf-8')\n",
    "text = f.read()\n",
    "import jieba\n",
    "words=jieba.lcut(text)\n",
    "j=\" \".join(words)\n",
    "w.generate(j)\n",
    "\n",
    "# Save wordcloud as PNG file\n",
    "w.to_file('comment.png')\n"
   ]
  }
 ],
 "metadata": {
  "language_info": {
   "name": "python"
  }
 },
 "nbformat": 4,
 "nbformat_minor": 2
}
