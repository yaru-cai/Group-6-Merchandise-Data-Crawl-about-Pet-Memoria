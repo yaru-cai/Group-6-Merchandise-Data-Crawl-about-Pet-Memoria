{
 "cells": [
  {
   "cell_type": "code",
   "execution_count": null,
   "metadata": {},
   "outputs": [],
   "source": [
    "import pandas as pd\n",
    "\n",
    "# Function to remove specific text and keep the number\n",
    "def remove_text_and_keep_number(column, text_to_remove):\n",
    "    return column.str.replace(text_to_remove, '', regex=False).str.extract('(\\d+)', expand=False)\n",
    "\n",
    "# Function to remove rows containing specific keywords\n",
    "def remove_rows_with_keywords(df, column, keywords):\n",
    "    pattern = '|'.join(keywords)\n",
    "    return df[~df[column].str.contains(pattern, case=False, na=False)]\n",
    "\n",
    "# Function to clean the data\n",
    "def clean_data(df, text_to_remove, keywords):\n",
    "    # Remove repetitions (duplicate rows)\n",
    "    if 'title' in df.columns:\n",
    "        df['title'] = df['title'].drop_duplicates()\n",
    "    # Process columns to remove specific text and keep the number\n",
    "    if 'Deal' in df.columns:\n",
    "        df['Deal'] = remove_text_and_keep_number(df['Deal'], text_to_remove)\n",
    "\n",
    "    # Remove rows with specific keywords\n",
    "    if 'Deal' in df.columns:\n",
    "        df = remove_rows_with_keywords(df, 'Deal', keywords)\n",
    "\n",
    "    return df\n",
    "\n",
    "def main():\n",
    "    # Import Excel file\n",
    "    input_file = 'Pet memorial data (unclean).xlsx'\n",
    "    df = pd.read_excel(input_file)\n",
    "\n",
    "    # Define the text to remove and keywords for deletion\n",
    "    text_to_remove = '人付款'\n",
    "    keywords = ['看过', 'keyword2', 'keyword3']\n",
    "\n",
    "    # Clean the data\n",
    "    cleaned_df = clean_data(df, text_to_remove, keywords)\n",
    "\n",
    "    # Output the cleaned data to a new Excel file\n",
    "    output_file = '5507 cleaned_data.xlsx'\n",
    "    cleaned_df.to_excel(output_file, index=False)\n",
    "    print(f\"Cleaned data saved to {output_file}\")\n",
    "\n",
    "if __name__ == '__main__':\n",
    "    main()"
   ]
  }
 ],
 "metadata": {
  "kernelspec": {
   "display_name": "Python 3",
   "language": "python",
   "name": "python3"
  },
  "language_info": {
   "codemirror_mode": {
    "name": "ipython",
    "version": 3
   },
   "file_extension": ".py",
   "mimetype": "text/x-python",
   "name": "python",
   "nbconvert_exporter": "python",
   "pygments_lexer": "ipython3",
   "version": "3.10.6"
  }
 },
 "nbformat": 4,
 "nbformat_minor": 2
}
