{
 "cells": [
  {
   "cell_type": "code",
   "execution_count": 2,
   "metadata": {},
   "outputs": [
    {
     "name": "stdout",
     "output_type": "stream",
     "text": [
      "所有文件已成功合并并保存为 combined_output.csv\n"
     ]
    }
   ],
   "source": [
    "# 合并评论文件\n",
    "import os\n",
    "import pandas as pd\n",
    "\n",
    "# 设置包含所有 CSV 文件的目录路径\n",
    "directory = \"D:/桌面文件夹/amazon/Amazon_data/comment_raw\"\n",
    "\n",
    "# 创建一个空的 DataFrame 用于存储所有合并的数据\n",
    "combined_df = pd.DataFrame()\n",
    "\n",
    "# 遍历目录中的所有 CSV 文件\n",
    "for filename in os.listdir(directory):\n",
    "    if filename.endswith(\".csv\"):\n",
    "        file_path = os.path.join(directory, filename)\n",
    "        # 读取 CSV 文件并追加到 combined_df 中\n",
    "        df = pd.read_csv(file_path)\n",
    "        combined_df = pd.concat([combined_df, df], ignore_index=True)\n",
    "\n",
    "# 将合并后的数据保存到一个新的 CSV 文件中\n",
    "combined_df.to_csv(\"D:/桌面文件夹/comment_cleaned.csv\", index=False)\n",
    "\n",
    "print(\"所有文件已成功合并并保存为 combined_output.csv\")\n"
   ]
  },
  {
   "cell_type": "code",
   "execution_count": 4,
   "metadata": {},
   "outputs": [
    {
     "name": "stdout",
     "output_type": "stream",
     "text": [
      "处理完成，结果已保存到 filtered_output.csv\n"
     ]
    }
   ],
   "source": [
    "import pandas as pd\n",
    "\n",
    "# 读取 CSV 文件\n",
    "df = pd.read_csv(\"D:/桌面文件夹/comment_output.csv\")\n",
    "\n",
    "# 保留指定的一列（例如 \"column_name\"）\n",
    "df = df[[\"Review Text\"]]\n",
    "\n",
    "# 删除空行（NaN 值）\n",
    "df = df.dropna()\n",
    "\n",
    "# 保存结果到新文件\n",
    "df.to_csv(\"filtered_output.csv\", index=False)\n",
    "\n",
    "print(\"处理完成，结果已保存到 filtered_output.csv\")\n"
   ]
  },
  {
   "cell_type": "code",
   "execution_count": null,
   "metadata": {},
   "outputs": [],
   "source": [
    "#制作词云图\n",
    "import pandas as pd\n",
    "import wordcloud\n",
    "from PIL import Image, ImageOps\n",
    "import imageio\n",
    "import numpy as np\n",
    "\n",
    "# 读取合并后的 CSV 文件中的评论数据\n",
    "combined_df = pd.read_csv(\"D:/桌面文件夹/comment_clear.csv\",encoding=\"ISO-8859-1\")\n",
    "text = \" \".join(combined_df['Review Text'].astype(str))\n",
    "\n",
    "# 过滤掉介词和冠词等常见停用词\n",
    "stopwords = set(wordcloud.STOPWORDS)\n",
    "additional_stopwords = {\"a\", \"an\", \"the\", \"and\", \"or\", \"but\", \"is\", \"are\", \"was\", \"were\", \"in\", \"on\", \"at\", \"for\", \"to\", \"with\", \"of\", \"by\"}\n",
    "stopwords.update(additional_stopwords)\n",
    "\n",
    "# 读取图片蒙版，并确保其为 2D 数组\n",
    "mk = imageio.imread('D:/桌面文件夹/doge.png')\n",
    "if len(mk.shape) == 3:\n",
    "    mk = np.mean(mk[:, :, :3], axis=2).astype(np.uint8)  # 将彩色图像转换为灰度图像\n",
    "\n",
    "# 确保蒙版图像中白色区域为255，黑色区域为0\n",
    "mk = Image.fromarray(mk)\n",
    "mk = ImageOps.invert(mk)  # 反转颜色，以确保主体部分为白色\n",
    "mk = np.array(mk)\n",
    "\n",
    "# 构建词云对象 w，设置词云图片宽、高、字体、背景颜色等参数\n",
    "w = wordcloud.WordCloud(width=1000,\n",
    "                        height=500,\n",
    "                        min_word_length=2,\n",
    "                        mask=mk,\n",
    "                        stopwords=stopwords,\n",
    "                        background_color='white',\n",
    "                        font_path='msyh.ttc')\n",
    "\n",
    "# 生成词云\n",
    "w.generate(text)\n",
    "\n",
    "# 将生成的词云保存为 output_wordcloud.png 图片文件，保存到当前文件夹中\n",
    "w.to_file('output_wordcloud.png')\n",
    "\n",
    "# 显示生成的词云图\n",
    "image = Image.open('output_wordcloud.png')\n",
    "image.show()\n"
   ]
  }
 ],
 "metadata": {
  "kernelspec": {
   "display_name": "Python 3 (ipykernel)",
   "language": "python",
   "name": "python3"
  },
  "language_info": {
   "codemirror_mode": {
    "name": "ipython",
    "version": 3
   },
   "file_extension": ".py",
   "mimetype": "text/x-python",
   "name": "python",
   "nbconvert_exporter": "python",
   "pygments_lexer": "ipython3",
   "version": "3.12.4"
  }
 },
 "nbformat": 4,
 "nbformat_minor": 4
}
